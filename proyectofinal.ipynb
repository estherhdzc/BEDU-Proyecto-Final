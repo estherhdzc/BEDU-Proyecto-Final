{
  "nbformat": 4,
  "nbformat_minor": 0,
  "metadata": {
    "colab": {
      "provenance": [],
      "authorship_tag": "ABX9TyNXe8xDQgni43Qyt4hUL0fF",
      "include_colab_link": true
    },
    "kernelspec": {
      "name": "ir",
      "display_name": "R"
    },
    "language_info": {
      "name": "R"
    }
  },
  "cells": [
    {
      "cell_type": "markdown",
      "metadata": {
        "id": "view-in-github",
        "colab_type": "text"
      },
      "source": [
        "<a href=\"https://colab.research.google.com/github/estherhdzc/BEDU-Proyecto-Final/blob/main/proyectofinal.ipynb\" target=\"_parent\"><img src=\"https://colab.research.google.com/assets/colab-badge.svg\" alt=\"Open In Colab\"/></a>"
      ]
    },
    {
      "cell_type": "code",
      "execution_count": null,
      "metadata": {
        "id": "rEYY_KgmamvL"
      },
      "outputs": [],
      "source": []
    },
    {
      "cell_type": "markdown",
      "source": [
        "#Análisis estadistico de rendimiento academico estudiantes de secundaria por género en Portugal.\n",
        "### En Portugal la escuela secundaria consta de 3 años, la escala de calificacion se se evaluan en 3 periodos siendo la calificacion final el G3\n",
        "###-  La calificacion es una variable numerica que va de 0 a 20\n",
        "###-  La interpretacion de la escala va:\n",
        "### 16-20 muy bueno\n",
        "### 14-15 bueno\n",
        "### 12-13 satisfactorio\n",
        "### 10-11 Suficiente\n",
        "### 0-9 suspenso\n"
      ],
      "metadata": {
        "id": "i-UNBoZJass5"
      }
    },
    {
      "cell_type": "code",
      "source": [
        "#Carga de librerias que incluye ggplot2, dplyr\n",
        "library(tidyverse)\n",
        "install.packages(\"rpart\")\n",
        "library(rpart)\n"
      ],
      "metadata": {
        "colab": {
          "base_uri": "https://localhost:8080/"
        },
        "outputId": "bda233e3-639e-4c05-9590-f3259dc1a284",
        "id": "wfhWr7LMcoSX"
      },
      "execution_count": 7,
      "outputs": [
        {
          "output_type": "stream",
          "name": "stderr",
          "text": [
            "Installing package into ‘/usr/local/lib/R/site-library’\n",
            "(as ‘lib’ is unspecified)\n",
            "\n"
          ]
        }
      ]
    },
    {
      "cell_type": "code",
      "source": [
        "directory <- \"https://raw.githubusercontent.com/estherhdzc/BEDU-Proyecto-Final/main/student-mat.csv\"\n",
        "\n",
        "\n",
        "#  se lee el archivo de datos correspondientes a las calificaciones de matematicas\n",
        "datos_mat<- read.csv(directory, header=TRUE, sep=\",\" )\n",
        "\n",
        "datos_mat"
      ],
      "metadata": {
        "colab": {
          "base_uri": "https://localhost:8080/",
          "height": 1000
        },
        "id": "UmFTQ4bybwkw",
        "outputId": "b8681a5d-6912-42dc-9df3-087d8f9dec48"
      },
      "execution_count": 22,
      "outputs": [
        {
          "output_type": "display_data",
          "data": {
            "text/html": [
              "<table class=\"dataframe\">\n",
              "<caption>A data.frame: 395 × 33</caption>\n",
              "<thead>\n",
              "\t<tr><th scope=col>school</th><th scope=col>sex</th><th scope=col>age</th><th scope=col>address</th><th scope=col>famsize</th><th scope=col>Pstatus</th><th scope=col>Medu</th><th scope=col>Fedu</th><th scope=col>Mjob</th><th scope=col>Fjob</th><th scope=col>⋯</th><th scope=col>famrel</th><th scope=col>freetime</th><th scope=col>goout</th><th scope=col>Dalc</th><th scope=col>Walc</th><th scope=col>health</th><th scope=col>absences</th><th scope=col>G1</th><th scope=col>G2</th><th scope=col>G3</th></tr>\n",
              "\t<tr><th scope=col>&lt;chr&gt;</th><th scope=col>&lt;chr&gt;</th><th scope=col>&lt;int&gt;</th><th scope=col>&lt;chr&gt;</th><th scope=col>&lt;chr&gt;</th><th scope=col>&lt;chr&gt;</th><th scope=col>&lt;int&gt;</th><th scope=col>&lt;int&gt;</th><th scope=col>&lt;chr&gt;</th><th scope=col>&lt;chr&gt;</th><th scope=col>⋯</th><th scope=col>&lt;int&gt;</th><th scope=col>&lt;int&gt;</th><th scope=col>&lt;int&gt;</th><th scope=col>&lt;int&gt;</th><th scope=col>&lt;int&gt;</th><th scope=col>&lt;int&gt;</th><th scope=col>&lt;int&gt;</th><th scope=col>&lt;int&gt;</th><th scope=col>&lt;int&gt;</th><th scope=col>&lt;int&gt;</th></tr>\n",
              "</thead>\n",
              "<tbody>\n",
              "\t<tr><td>GP</td><td>F</td><td>18</td><td>U</td><td>GT3</td><td>A</td><td>4</td><td>4</td><td>at_home </td><td>teacher </td><td>⋯</td><td>4</td><td>3</td><td>4</td><td>1</td><td>1</td><td>3</td><td> 6</td><td> 5</td><td> 6</td><td> 6</td></tr>\n",
              "\t<tr><td>GP</td><td>F</td><td>17</td><td>U</td><td>GT3</td><td>T</td><td>1</td><td>1</td><td>at_home </td><td>other   </td><td>⋯</td><td>5</td><td>3</td><td>3</td><td>1</td><td>1</td><td>3</td><td> 4</td><td> 5</td><td> 5</td><td> 6</td></tr>\n",
              "\t<tr><td>GP</td><td>F</td><td>15</td><td>U</td><td>LE3</td><td>T</td><td>1</td><td>1</td><td>at_home </td><td>other   </td><td>⋯</td><td>4</td><td>3</td><td>2</td><td>2</td><td>3</td><td>3</td><td>10</td><td> 7</td><td> 8</td><td>10</td></tr>\n",
              "\t<tr><td>GP</td><td>F</td><td>15</td><td>U</td><td>GT3</td><td>T</td><td>4</td><td>2</td><td>health  </td><td>services</td><td>⋯</td><td>3</td><td>2</td><td>2</td><td>1</td><td>1</td><td>5</td><td> 2</td><td>15</td><td>14</td><td>15</td></tr>\n",
              "\t<tr><td>GP</td><td>F</td><td>16</td><td>U</td><td>GT3</td><td>T</td><td>3</td><td>3</td><td>other   </td><td>other   </td><td>⋯</td><td>4</td><td>3</td><td>2</td><td>1</td><td>2</td><td>5</td><td> 4</td><td> 6</td><td>10</td><td>10</td></tr>\n",
              "\t<tr><td>GP</td><td>M</td><td>16</td><td>U</td><td>LE3</td><td>T</td><td>4</td><td>3</td><td>services</td><td>other   </td><td>⋯</td><td>5</td><td>4</td><td>2</td><td>1</td><td>2</td><td>5</td><td>10</td><td>15</td><td>15</td><td>15</td></tr>\n",
              "\t<tr><td>GP</td><td>M</td><td>16</td><td>U</td><td>LE3</td><td>T</td><td>2</td><td>2</td><td>other   </td><td>other   </td><td>⋯</td><td>4</td><td>4</td><td>4</td><td>1</td><td>1</td><td>3</td><td> 0</td><td>12</td><td>12</td><td>11</td></tr>\n",
              "\t<tr><td>GP</td><td>F</td><td>17</td><td>U</td><td>GT3</td><td>A</td><td>4</td><td>4</td><td>other   </td><td>teacher </td><td>⋯</td><td>4</td><td>1</td><td>4</td><td>1</td><td>1</td><td>1</td><td> 6</td><td> 6</td><td> 5</td><td> 6</td></tr>\n",
              "\t<tr><td>GP</td><td>M</td><td>15</td><td>U</td><td>LE3</td><td>A</td><td>3</td><td>2</td><td>services</td><td>other   </td><td>⋯</td><td>4</td><td>2</td><td>2</td><td>1</td><td>1</td><td>1</td><td> 0</td><td>16</td><td>18</td><td>19</td></tr>\n",
              "\t<tr><td>GP</td><td>M</td><td>15</td><td>U</td><td>GT3</td><td>T</td><td>3</td><td>4</td><td>other   </td><td>other   </td><td>⋯</td><td>5</td><td>5</td><td>1</td><td>1</td><td>1</td><td>5</td><td> 0</td><td>14</td><td>15</td><td>15</td></tr>\n",
              "\t<tr><td>GP</td><td>F</td><td>15</td><td>U</td><td>GT3</td><td>T</td><td>4</td><td>4</td><td>teacher </td><td>health  </td><td>⋯</td><td>3</td><td>3</td><td>3</td><td>1</td><td>2</td><td>2</td><td> 0</td><td>10</td><td> 8</td><td> 9</td></tr>\n",
              "\t<tr><td>GP</td><td>F</td><td>15</td><td>U</td><td>GT3</td><td>T</td><td>2</td><td>1</td><td>services</td><td>other   </td><td>⋯</td><td>5</td><td>2</td><td>2</td><td>1</td><td>1</td><td>4</td><td> 4</td><td>10</td><td>12</td><td>12</td></tr>\n",
              "\t<tr><td>GP</td><td>M</td><td>15</td><td>U</td><td>LE3</td><td>T</td><td>4</td><td>4</td><td>health  </td><td>services</td><td>⋯</td><td>4</td><td>3</td><td>3</td><td>1</td><td>3</td><td>5</td><td> 2</td><td>14</td><td>14</td><td>14</td></tr>\n",
              "\t<tr><td>GP</td><td>M</td><td>15</td><td>U</td><td>GT3</td><td>T</td><td>4</td><td>3</td><td>teacher </td><td>other   </td><td>⋯</td><td>5</td><td>4</td><td>3</td><td>1</td><td>2</td><td>3</td><td> 2</td><td>10</td><td>10</td><td>11</td></tr>\n",
              "\t<tr><td>GP</td><td>M</td><td>15</td><td>U</td><td>GT3</td><td>A</td><td>2</td><td>2</td><td>other   </td><td>other   </td><td>⋯</td><td>4</td><td>5</td><td>2</td><td>1</td><td>1</td><td>3</td><td> 0</td><td>14</td><td>16</td><td>16</td></tr>\n",
              "\t<tr><td>GP</td><td>F</td><td>16</td><td>U</td><td>GT3</td><td>T</td><td>4</td><td>4</td><td>health  </td><td>other   </td><td>⋯</td><td>4</td><td>4</td><td>4</td><td>1</td><td>2</td><td>2</td><td> 4</td><td>14</td><td>14</td><td>14</td></tr>\n",
              "\t<tr><td>GP</td><td>F</td><td>16</td><td>U</td><td>GT3</td><td>T</td><td>4</td><td>4</td><td>services</td><td>services</td><td>⋯</td><td>3</td><td>2</td><td>3</td><td>1</td><td>2</td><td>2</td><td> 6</td><td>13</td><td>14</td><td>14</td></tr>\n",
              "\t<tr><td>GP</td><td>F</td><td>16</td><td>U</td><td>GT3</td><td>T</td><td>3</td><td>3</td><td>other   </td><td>other   </td><td>⋯</td><td>5</td><td>3</td><td>2</td><td>1</td><td>1</td><td>4</td><td> 4</td><td> 8</td><td>10</td><td>10</td></tr>\n",
              "\t<tr><td>GP</td><td>M</td><td>17</td><td>U</td><td>GT3</td><td>T</td><td>3</td><td>2</td><td>services</td><td>services</td><td>⋯</td><td>5</td><td>5</td><td>5</td><td>2</td><td>4</td><td>5</td><td>16</td><td> 6</td><td> 5</td><td> 5</td></tr>\n",
              "\t<tr><td>GP</td><td>M</td><td>16</td><td>U</td><td>LE3</td><td>T</td><td>4</td><td>3</td><td>health  </td><td>other   </td><td>⋯</td><td>3</td><td>1</td><td>3</td><td>1</td><td>3</td><td>5</td><td> 4</td><td> 8</td><td>10</td><td>10</td></tr>\n",
              "\t<tr><td>GP</td><td>M</td><td>15</td><td>U</td><td>GT3</td><td>T</td><td>4</td><td>3</td><td>teacher </td><td>other   </td><td>⋯</td><td>4</td><td>4</td><td>1</td><td>1</td><td>1</td><td>1</td><td> 0</td><td>13</td><td>14</td><td>15</td></tr>\n",
              "\t<tr><td>GP</td><td>M</td><td>15</td><td>U</td><td>GT3</td><td>T</td><td>4</td><td>4</td><td>health  </td><td>health  </td><td>⋯</td><td>5</td><td>4</td><td>2</td><td>1</td><td>1</td><td>5</td><td> 0</td><td>12</td><td>15</td><td>15</td></tr>\n",
              "\t<tr><td>GP</td><td>M</td><td>16</td><td>U</td><td>LE3</td><td>T</td><td>4</td><td>2</td><td>teacher </td><td>other   </td><td>⋯</td><td>4</td><td>5</td><td>1</td><td>1</td><td>3</td><td>5</td><td> 2</td><td>15</td><td>15</td><td>16</td></tr>\n",
              "\t<tr><td>GP</td><td>M</td><td>16</td><td>U</td><td>LE3</td><td>T</td><td>2</td><td>2</td><td>other   </td><td>other   </td><td>⋯</td><td>5</td><td>4</td><td>4</td><td>2</td><td>4</td><td>5</td><td> 0</td><td>13</td><td>13</td><td>12</td></tr>\n",
              "\t<tr><td>GP</td><td>F</td><td>15</td><td>R</td><td>GT3</td><td>T</td><td>2</td><td>4</td><td>services</td><td>health  </td><td>⋯</td><td>4</td><td>3</td><td>2</td><td>1</td><td>1</td><td>5</td><td> 2</td><td>10</td><td> 9</td><td> 8</td></tr>\n",
              "\t<tr><td>GP</td><td>F</td><td>16</td><td>U</td><td>GT3</td><td>T</td><td>2</td><td>2</td><td>services</td><td>services</td><td>⋯</td><td>1</td><td>2</td><td>2</td><td>1</td><td>3</td><td>5</td><td>14</td><td> 6</td><td> 9</td><td> 8</td></tr>\n",
              "\t<tr><td>GP</td><td>M</td><td>15</td><td>U</td><td>GT3</td><td>T</td><td>2</td><td>2</td><td>other   </td><td>other   </td><td>⋯</td><td>4</td><td>2</td><td>2</td><td>1</td><td>2</td><td>5</td><td> 2</td><td>12</td><td>12</td><td>11</td></tr>\n",
              "\t<tr><td>GP</td><td>M</td><td>15</td><td>U</td><td>GT3</td><td>T</td><td>4</td><td>2</td><td>health  </td><td>services</td><td>⋯</td><td>2</td><td>2</td><td>4</td><td>2</td><td>4</td><td>1</td><td> 4</td><td>15</td><td>16</td><td>15</td></tr>\n",
              "\t<tr><td>GP</td><td>M</td><td>16</td><td>U</td><td>LE3</td><td>A</td><td>3</td><td>4</td><td>services</td><td>other   </td><td>⋯</td><td>5</td><td>3</td><td>3</td><td>1</td><td>1</td><td>5</td><td> 4</td><td>11</td><td>11</td><td>11</td></tr>\n",
              "\t<tr><td>GP</td><td>M</td><td>16</td><td>U</td><td>GT3</td><td>T</td><td>4</td><td>4</td><td>teacher </td><td>teacher </td><td>⋯</td><td>4</td><td>4</td><td>5</td><td>5</td><td>5</td><td>5</td><td>16</td><td>10</td><td>12</td><td>11</td></tr>\n",
              "\t<tr><td>⋮</td><td>⋮</td><td>⋮</td><td>⋮</td><td>⋮</td><td>⋮</td><td>⋮</td><td>⋮</td><td>⋮</td><td>⋮</td><td>⋱</td><td>⋮</td><td>⋮</td><td>⋮</td><td>⋮</td><td>⋮</td><td>⋮</td><td>⋮</td><td>⋮</td><td>⋮</td><td>⋮</td></tr>\n",
              "\t<tr><td>MS</td><td>M</td><td>18</td><td>R</td><td>GT3</td><td>T</td><td>1</td><td>3</td><td>at_home </td><td>other   </td><td>⋯</td><td>3</td><td>3</td><td>4</td><td>2</td><td>4</td><td>3</td><td> 4</td><td>10</td><td>10</td><td>10</td></tr>\n",
              "\t<tr><td>MS</td><td>M</td><td>18</td><td>U</td><td>LE3</td><td>T</td><td>4</td><td>4</td><td>teacher </td><td>services</td><td>⋯</td><td>4</td><td>2</td><td>2</td><td>2</td><td>2</td><td>5</td><td> 0</td><td>13</td><td>13</td><td>13</td></tr>\n",
              "\t<tr><td>MS</td><td>F</td><td>17</td><td>R</td><td>GT3</td><td>T</td><td>1</td><td>1</td><td>other   </td><td>services</td><td>⋯</td><td>5</td><td>2</td><td>1</td><td>1</td><td>2</td><td>1</td><td> 0</td><td> 7</td><td> 6</td><td> 0</td></tr>\n",
              "\t<tr><td>MS</td><td>F</td><td>18</td><td>U</td><td>GT3</td><td>T</td><td>2</td><td>3</td><td>at_home </td><td>services</td><td>⋯</td><td>5</td><td>2</td><td>3</td><td>1</td><td>2</td><td>4</td><td> 0</td><td>11</td><td>10</td><td>10</td></tr>\n",
              "\t<tr><td>MS</td><td>F</td><td>18</td><td>R</td><td>GT3</td><td>T</td><td>4</td><td>4</td><td>other   </td><td>teacher </td><td>⋯</td><td>3</td><td>2</td><td>2</td><td>4</td><td>2</td><td>5</td><td>10</td><td>14</td><td>12</td><td>11</td></tr>\n",
              "\t<tr><td>MS</td><td>F</td><td>19</td><td>U</td><td>LE3</td><td>T</td><td>3</td><td>2</td><td>services</td><td>services</td><td>⋯</td><td>3</td><td>2</td><td>2</td><td>1</td><td>1</td><td>3</td><td> 4</td><td> 7</td><td> 7</td><td> 9</td></tr>\n",
              "\t<tr><td>MS</td><td>M</td><td>18</td><td>R</td><td>LE3</td><td>T</td><td>1</td><td>2</td><td>at_home </td><td>services</td><td>⋯</td><td>4</td><td>3</td><td>3</td><td>2</td><td>3</td><td>3</td><td> 3</td><td>14</td><td>12</td><td>12</td></tr>\n",
              "\t<tr><td>MS</td><td>F</td><td>17</td><td>U</td><td>GT3</td><td>T</td><td>2</td><td>2</td><td>other   </td><td>at_home </td><td>⋯</td><td>3</td><td>4</td><td>3</td><td>1</td><td>1</td><td>3</td><td> 8</td><td>13</td><td>11</td><td>11</td></tr>\n",
              "\t<tr><td>MS</td><td>F</td><td>17</td><td>R</td><td>GT3</td><td>T</td><td>1</td><td>2</td><td>other   </td><td>other   </td><td>⋯</td><td>3</td><td>5</td><td>5</td><td>1</td><td>3</td><td>1</td><td>14</td><td> 6</td><td> 5</td><td> 5</td></tr>\n",
              "\t<tr><td>MS</td><td>F</td><td>18</td><td>R</td><td>LE3</td><td>T</td><td>4</td><td>4</td><td>other   </td><td>other   </td><td>⋯</td><td>5</td><td>4</td><td>4</td><td>1</td><td>1</td><td>1</td><td> 0</td><td>19</td><td>18</td><td>19</td></tr>\n",
              "\t<tr><td>MS</td><td>F</td><td>18</td><td>R</td><td>GT3</td><td>T</td><td>1</td><td>1</td><td>other   </td><td>other   </td><td>⋯</td><td>4</td><td>3</td><td>2</td><td>1</td><td>2</td><td>4</td><td> 2</td><td> 8</td><td> 8</td><td>10</td></tr>\n",
              "\t<tr><td>MS</td><td>F</td><td>20</td><td>U</td><td>GT3</td><td>T</td><td>4</td><td>2</td><td>health  </td><td>other   </td><td>⋯</td><td>5</td><td>4</td><td>3</td><td>1</td><td>1</td><td>3</td><td> 4</td><td>15</td><td>14</td><td>15</td></tr>\n",
              "\t<tr><td>MS</td><td>F</td><td>18</td><td>R</td><td>LE3</td><td>T</td><td>4</td><td>4</td><td>teacher </td><td>services</td><td>⋯</td><td>5</td><td>4</td><td>3</td><td>3</td><td>4</td><td>2</td><td> 4</td><td> 8</td><td> 9</td><td>10</td></tr>\n",
              "\t<tr><td>MS</td><td>F</td><td>18</td><td>U</td><td>GT3</td><td>T</td><td>3</td><td>3</td><td>other   </td><td>other   </td><td>⋯</td><td>4</td><td>1</td><td>3</td><td>1</td><td>2</td><td>1</td><td> 0</td><td>15</td><td>15</td><td>15</td></tr>\n",
              "\t<tr><td>MS</td><td>F</td><td>17</td><td>R</td><td>GT3</td><td>T</td><td>3</td><td>1</td><td>at_home </td><td>other   </td><td>⋯</td><td>4</td><td>5</td><td>4</td><td>2</td><td>3</td><td>1</td><td>17</td><td>10</td><td>10</td><td>10</td></tr>\n",
              "\t<tr><td>MS</td><td>M</td><td>18</td><td>U</td><td>GT3</td><td>T</td><td>4</td><td>4</td><td>teacher </td><td>teacher </td><td>⋯</td><td>3</td><td>2</td><td>4</td><td>1</td><td>4</td><td>2</td><td> 4</td><td>15</td><td>14</td><td>14</td></tr>\n",
              "\t<tr><td>MS</td><td>M</td><td>18</td><td>R</td><td>GT3</td><td>T</td><td>2</td><td>1</td><td>other   </td><td>other   </td><td>⋯</td><td>4</td><td>4</td><td>3</td><td>1</td><td>3</td><td>5</td><td> 5</td><td> 7</td><td> 6</td><td> 7</td></tr>\n",
              "\t<tr><td>MS</td><td>M</td><td>17</td><td>U</td><td>GT3</td><td>T</td><td>2</td><td>3</td><td>other   </td><td>services</td><td>⋯</td><td>4</td><td>4</td><td>3</td><td>1</td><td>1</td><td>3</td><td> 2</td><td>11</td><td>11</td><td>10</td></tr>\n",
              "\t<tr><td>MS</td><td>M</td><td>19</td><td>R</td><td>GT3</td><td>T</td><td>1</td><td>1</td><td>other   </td><td>services</td><td>⋯</td><td>4</td><td>3</td><td>2</td><td>1</td><td>3</td><td>5</td><td> 0</td><td> 6</td><td> 5</td><td> 0</td></tr>\n",
              "\t<tr><td>MS</td><td>M</td><td>18</td><td>R</td><td>GT3</td><td>T</td><td>4</td><td>2</td><td>other   </td><td>other   </td><td>⋯</td><td>5</td><td>4</td><td>3</td><td>4</td><td>3</td><td>3</td><td>14</td><td> 6</td><td> 5</td><td> 5</td></tr>\n",
              "\t<tr><td>MS</td><td>F</td><td>18</td><td>R</td><td>GT3</td><td>T</td><td>2</td><td>2</td><td>at_home </td><td>other   </td><td>⋯</td><td>5</td><td>3</td><td>3</td><td>1</td><td>3</td><td>4</td><td> 2</td><td>10</td><td> 9</td><td>10</td></tr>\n",
              "\t<tr><td>MS</td><td>F</td><td>18</td><td>R</td><td>GT3</td><td>T</td><td>4</td><td>4</td><td>teacher </td><td>at_home </td><td>⋯</td><td>4</td><td>4</td><td>3</td><td>2</td><td>2</td><td>5</td><td> 7</td><td> 6</td><td> 5</td><td> 6</td></tr>\n",
              "\t<tr><td>MS</td><td>F</td><td>19</td><td>R</td><td>GT3</td><td>T</td><td>2</td><td>3</td><td>services</td><td>other   </td><td>⋯</td><td>5</td><td>4</td><td>2</td><td>1</td><td>2</td><td>5</td><td> 0</td><td> 7</td><td> 5</td><td> 0</td></tr>\n",
              "\t<tr><td>MS</td><td>F</td><td>18</td><td>U</td><td>LE3</td><td>T</td><td>3</td><td>1</td><td>teacher </td><td>services</td><td>⋯</td><td>4</td><td>3</td><td>4</td><td>1</td><td>1</td><td>1</td><td> 0</td><td> 7</td><td> 9</td><td> 8</td></tr>\n",
              "\t<tr><td>MS</td><td>F</td><td>18</td><td>U</td><td>GT3</td><td>T</td><td>1</td><td>1</td><td>other   </td><td>other   </td><td>⋯</td><td>1</td><td>1</td><td>1</td><td>1</td><td>1</td><td>5</td><td> 0</td><td> 6</td><td> 5</td><td> 0</td></tr>\n",
              "\t<tr><td>MS</td><td>M</td><td>20</td><td>U</td><td>LE3</td><td>A</td><td>2</td><td>2</td><td>services</td><td>services</td><td>⋯</td><td>5</td><td>5</td><td>4</td><td>4</td><td>5</td><td>4</td><td>11</td><td> 9</td><td> 9</td><td> 9</td></tr>\n",
              "\t<tr><td>MS</td><td>M</td><td>17</td><td>U</td><td>LE3</td><td>T</td><td>3</td><td>1</td><td>services</td><td>services</td><td>⋯</td><td>2</td><td>4</td><td>5</td><td>3</td><td>4</td><td>2</td><td> 3</td><td>14</td><td>16</td><td>16</td></tr>\n",
              "\t<tr><td>MS</td><td>M</td><td>21</td><td>R</td><td>GT3</td><td>T</td><td>1</td><td>1</td><td>other   </td><td>other   </td><td>⋯</td><td>5</td><td>5</td><td>3</td><td>3</td><td>3</td><td>3</td><td> 3</td><td>10</td><td> 8</td><td> 7</td></tr>\n",
              "\t<tr><td>MS</td><td>M</td><td>18</td><td>R</td><td>LE3</td><td>T</td><td>3</td><td>2</td><td>services</td><td>other   </td><td>⋯</td><td>4</td><td>4</td><td>1</td><td>3</td><td>4</td><td>5</td><td> 0</td><td>11</td><td>12</td><td>10</td></tr>\n",
              "\t<tr><td>MS</td><td>M</td><td>19</td><td>U</td><td>LE3</td><td>T</td><td>1</td><td>1</td><td>other   </td><td>at_home </td><td>⋯</td><td>3</td><td>2</td><td>3</td><td>3</td><td>3</td><td>5</td><td> 5</td><td> 8</td><td> 9</td><td> 9</td></tr>\n",
              "</tbody>\n",
              "</table>\n"
            ],
            "text/markdown": "\nA data.frame: 395 × 33\n\n| school &lt;chr&gt; | sex &lt;chr&gt; | age &lt;int&gt; | address &lt;chr&gt; | famsize &lt;chr&gt; | Pstatus &lt;chr&gt; | Medu &lt;int&gt; | Fedu &lt;int&gt; | Mjob &lt;chr&gt; | Fjob &lt;chr&gt; | ⋯ ⋯ | famrel &lt;int&gt; | freetime &lt;int&gt; | goout &lt;int&gt; | Dalc &lt;int&gt; | Walc &lt;int&gt; | health &lt;int&gt; | absences &lt;int&gt; | G1 &lt;int&gt; | G2 &lt;int&gt; | G3 &lt;int&gt; |\n|---|---|---|---|---|---|---|---|---|---|---|---|---|---|---|---|---|---|---|---|---|\n| GP | F | 18 | U | GT3 | A | 4 | 4 | at_home  | teacher  | ⋯ | 4 | 3 | 4 | 1 | 1 | 3 |  6 |  5 |  6 |  6 |\n| GP | F | 17 | U | GT3 | T | 1 | 1 | at_home  | other    | ⋯ | 5 | 3 | 3 | 1 | 1 | 3 |  4 |  5 |  5 |  6 |\n| GP | F | 15 | U | LE3 | T | 1 | 1 | at_home  | other    | ⋯ | 4 | 3 | 2 | 2 | 3 | 3 | 10 |  7 |  8 | 10 |\n| GP | F | 15 | U | GT3 | T | 4 | 2 | health   | services | ⋯ | 3 | 2 | 2 | 1 | 1 | 5 |  2 | 15 | 14 | 15 |\n| GP | F | 16 | U | GT3 | T | 3 | 3 | other    | other    | ⋯ | 4 | 3 | 2 | 1 | 2 | 5 |  4 |  6 | 10 | 10 |\n| GP | M | 16 | U | LE3 | T | 4 | 3 | services | other    | ⋯ | 5 | 4 | 2 | 1 | 2 | 5 | 10 | 15 | 15 | 15 |\n| GP | M | 16 | U | LE3 | T | 2 | 2 | other    | other    | ⋯ | 4 | 4 | 4 | 1 | 1 | 3 |  0 | 12 | 12 | 11 |\n| GP | F | 17 | U | GT3 | A | 4 | 4 | other    | teacher  | ⋯ | 4 | 1 | 4 | 1 | 1 | 1 |  6 |  6 |  5 |  6 |\n| GP | M | 15 | U | LE3 | A | 3 | 2 | services | other    | ⋯ | 4 | 2 | 2 | 1 | 1 | 1 |  0 | 16 | 18 | 19 |\n| GP | M | 15 | U | GT3 | T | 3 | 4 | other    | other    | ⋯ | 5 | 5 | 1 | 1 | 1 | 5 |  0 | 14 | 15 | 15 |\n| GP | F | 15 | U | GT3 | T | 4 | 4 | teacher  | health   | ⋯ | 3 | 3 | 3 | 1 | 2 | 2 |  0 | 10 |  8 |  9 |\n| GP | F | 15 | U | GT3 | T | 2 | 1 | services | other    | ⋯ | 5 | 2 | 2 | 1 | 1 | 4 |  4 | 10 | 12 | 12 |\n| GP | M | 15 | U | LE3 | T | 4 | 4 | health   | services | ⋯ | 4 | 3 | 3 | 1 | 3 | 5 |  2 | 14 | 14 | 14 |\n| GP | M | 15 | U | GT3 | T | 4 | 3 | teacher  | other    | ⋯ | 5 | 4 | 3 | 1 | 2 | 3 |  2 | 10 | 10 | 11 |\n| GP | M | 15 | U | GT3 | A | 2 | 2 | other    | other    | ⋯ | 4 | 5 | 2 | 1 | 1 | 3 |  0 | 14 | 16 | 16 |\n| GP | F | 16 | U | GT3 | T | 4 | 4 | health   | other    | ⋯ | 4 | 4 | 4 | 1 | 2 | 2 |  4 | 14 | 14 | 14 |\n| GP | F | 16 | U | GT3 | T | 4 | 4 | services | services | ⋯ | 3 | 2 | 3 | 1 | 2 | 2 |  6 | 13 | 14 | 14 |\n| GP | F | 16 | U | GT3 | T | 3 | 3 | other    | other    | ⋯ | 5 | 3 | 2 | 1 | 1 | 4 |  4 |  8 | 10 | 10 |\n| GP | M | 17 | U | GT3 | T | 3 | 2 | services | services | ⋯ | 5 | 5 | 5 | 2 | 4 | 5 | 16 |  6 |  5 |  5 |\n| GP | M | 16 | U | LE3 | T | 4 | 3 | health   | other    | ⋯ | 3 | 1 | 3 | 1 | 3 | 5 |  4 |  8 | 10 | 10 |\n| GP | M | 15 | U | GT3 | T | 4 | 3 | teacher  | other    | ⋯ | 4 | 4 | 1 | 1 | 1 | 1 |  0 | 13 | 14 | 15 |\n| GP | M | 15 | U | GT3 | T | 4 | 4 | health   | health   | ⋯ | 5 | 4 | 2 | 1 | 1 | 5 |  0 | 12 | 15 | 15 |\n| GP | M | 16 | U | LE3 | T | 4 | 2 | teacher  | other    | ⋯ | 4 | 5 | 1 | 1 | 3 | 5 |  2 | 15 | 15 | 16 |\n| GP | M | 16 | U | LE3 | T | 2 | 2 | other    | other    | ⋯ | 5 | 4 | 4 | 2 | 4 | 5 |  0 | 13 | 13 | 12 |\n| GP | F | 15 | R | GT3 | T | 2 | 4 | services | health   | ⋯ | 4 | 3 | 2 | 1 | 1 | 5 |  2 | 10 |  9 |  8 |\n| GP | F | 16 | U | GT3 | T | 2 | 2 | services | services | ⋯ | 1 | 2 | 2 | 1 | 3 | 5 | 14 |  6 |  9 |  8 |\n| GP | M | 15 | U | GT3 | T | 2 | 2 | other    | other    | ⋯ | 4 | 2 | 2 | 1 | 2 | 5 |  2 | 12 | 12 | 11 |\n| GP | M | 15 | U | GT3 | T | 4 | 2 | health   | services | ⋯ | 2 | 2 | 4 | 2 | 4 | 1 |  4 | 15 | 16 | 15 |\n| GP | M | 16 | U | LE3 | A | 3 | 4 | services | other    | ⋯ | 5 | 3 | 3 | 1 | 1 | 5 |  4 | 11 | 11 | 11 |\n| GP | M | 16 | U | GT3 | T | 4 | 4 | teacher  | teacher  | ⋯ | 4 | 4 | 5 | 5 | 5 | 5 | 16 | 10 | 12 | 11 |\n| ⋮ | ⋮ | ⋮ | ⋮ | ⋮ | ⋮ | ⋮ | ⋮ | ⋮ | ⋮ | ⋱ | ⋮ | ⋮ | ⋮ | ⋮ | ⋮ | ⋮ | ⋮ | ⋮ | ⋮ | ⋮ |\n| MS | M | 18 | R | GT3 | T | 1 | 3 | at_home  | other    | ⋯ | 3 | 3 | 4 | 2 | 4 | 3 |  4 | 10 | 10 | 10 |\n| MS | M | 18 | U | LE3 | T | 4 | 4 | teacher  | services | ⋯ | 4 | 2 | 2 | 2 | 2 | 5 |  0 | 13 | 13 | 13 |\n| MS | F | 17 | R | GT3 | T | 1 | 1 | other    | services | ⋯ | 5 | 2 | 1 | 1 | 2 | 1 |  0 |  7 |  6 |  0 |\n| MS | F | 18 | U | GT3 | T | 2 | 3 | at_home  | services | ⋯ | 5 | 2 | 3 | 1 | 2 | 4 |  0 | 11 | 10 | 10 |\n| MS | F | 18 | R | GT3 | T | 4 | 4 | other    | teacher  | ⋯ | 3 | 2 | 2 | 4 | 2 | 5 | 10 | 14 | 12 | 11 |\n| MS | F | 19 | U | LE3 | T | 3 | 2 | services | services | ⋯ | 3 | 2 | 2 | 1 | 1 | 3 |  4 |  7 |  7 |  9 |\n| MS | M | 18 | R | LE3 | T | 1 | 2 | at_home  | services | ⋯ | 4 | 3 | 3 | 2 | 3 | 3 |  3 | 14 | 12 | 12 |\n| MS | F | 17 | U | GT3 | T | 2 | 2 | other    | at_home  | ⋯ | 3 | 4 | 3 | 1 | 1 | 3 |  8 | 13 | 11 | 11 |\n| MS | F | 17 | R | GT3 | T | 1 | 2 | other    | other    | ⋯ | 3 | 5 | 5 | 1 | 3 | 1 | 14 |  6 |  5 |  5 |\n| MS | F | 18 | R | LE3 | T | 4 | 4 | other    | other    | ⋯ | 5 | 4 | 4 | 1 | 1 | 1 |  0 | 19 | 18 | 19 |\n| MS | F | 18 | R | GT3 | T | 1 | 1 | other    | other    | ⋯ | 4 | 3 | 2 | 1 | 2 | 4 |  2 |  8 |  8 | 10 |\n| MS | F | 20 | U | GT3 | T | 4 | 2 | health   | other    | ⋯ | 5 | 4 | 3 | 1 | 1 | 3 |  4 | 15 | 14 | 15 |\n| MS | F | 18 | R | LE3 | T | 4 | 4 | teacher  | services | ⋯ | 5 | 4 | 3 | 3 | 4 | 2 |  4 |  8 |  9 | 10 |\n| MS | F | 18 | U | GT3 | T | 3 | 3 | other    | other    | ⋯ | 4 | 1 | 3 | 1 | 2 | 1 |  0 | 15 | 15 | 15 |\n| MS | F | 17 | R | GT3 | T | 3 | 1 | at_home  | other    | ⋯ | 4 | 5 | 4 | 2 | 3 | 1 | 17 | 10 | 10 | 10 |\n| MS | M | 18 | U | GT3 | T | 4 | 4 | teacher  | teacher  | ⋯ | 3 | 2 | 4 | 1 | 4 | 2 |  4 | 15 | 14 | 14 |\n| MS | M | 18 | R | GT3 | T | 2 | 1 | other    | other    | ⋯ | 4 | 4 | 3 | 1 | 3 | 5 |  5 |  7 |  6 |  7 |\n| MS | M | 17 | U | GT3 | T | 2 | 3 | other    | services | ⋯ | 4 | 4 | 3 | 1 | 1 | 3 |  2 | 11 | 11 | 10 |\n| MS | M | 19 | R | GT3 | T | 1 | 1 | other    | services | ⋯ | 4 | 3 | 2 | 1 | 3 | 5 |  0 |  6 |  5 |  0 |\n| MS | M | 18 | R | GT3 | T | 4 | 2 | other    | other    | ⋯ | 5 | 4 | 3 | 4 | 3 | 3 | 14 |  6 |  5 |  5 |\n| MS | F | 18 | R | GT3 | T | 2 | 2 | at_home  | other    | ⋯ | 5 | 3 | 3 | 1 | 3 | 4 |  2 | 10 |  9 | 10 |\n| MS | F | 18 | R | GT3 | T | 4 | 4 | teacher  | at_home  | ⋯ | 4 | 4 | 3 | 2 | 2 | 5 |  7 |  6 |  5 |  6 |\n| MS | F | 19 | R | GT3 | T | 2 | 3 | services | other    | ⋯ | 5 | 4 | 2 | 1 | 2 | 5 |  0 |  7 |  5 |  0 |\n| MS | F | 18 | U | LE3 | T | 3 | 1 | teacher  | services | ⋯ | 4 | 3 | 4 | 1 | 1 | 1 |  0 |  7 |  9 |  8 |\n| MS | F | 18 | U | GT3 | T | 1 | 1 | other    | other    | ⋯ | 1 | 1 | 1 | 1 | 1 | 5 |  0 |  6 |  5 |  0 |\n| MS | M | 20 | U | LE3 | A | 2 | 2 | services | services | ⋯ | 5 | 5 | 4 | 4 | 5 | 4 | 11 |  9 |  9 |  9 |\n| MS | M | 17 | U | LE3 | T | 3 | 1 | services | services | ⋯ | 2 | 4 | 5 | 3 | 4 | 2 |  3 | 14 | 16 | 16 |\n| MS | M | 21 | R | GT3 | T | 1 | 1 | other    | other    | ⋯ | 5 | 5 | 3 | 3 | 3 | 3 |  3 | 10 |  8 |  7 |\n| MS | M | 18 | R | LE3 | T | 3 | 2 | services | other    | ⋯ | 4 | 4 | 1 | 3 | 4 | 5 |  0 | 11 | 12 | 10 |\n| MS | M | 19 | U | LE3 | T | 1 | 1 | other    | at_home  | ⋯ | 3 | 2 | 3 | 3 | 3 | 5 |  5 |  8 |  9 |  9 |\n\n",
            "text/latex": "A data.frame: 395 × 33\n\\begin{tabular}{lllllllllllllllllllll}\n school & sex & age & address & famsize & Pstatus & Medu & Fedu & Mjob & Fjob & ⋯ & famrel & freetime & goout & Dalc & Walc & health & absences & G1 & G2 & G3\\\\\n <chr> & <chr> & <int> & <chr> & <chr> & <chr> & <int> & <int> & <chr> & <chr> & ⋯ & <int> & <int> & <int> & <int> & <int> & <int> & <int> & <int> & <int> & <int>\\\\\n\\hline\n\t GP & F & 18 & U & GT3 & A & 4 & 4 & at\\_home  & teacher  & ⋯ & 4 & 3 & 4 & 1 & 1 & 3 &  6 &  5 &  6 &  6\\\\\n\t GP & F & 17 & U & GT3 & T & 1 & 1 & at\\_home  & other    & ⋯ & 5 & 3 & 3 & 1 & 1 & 3 &  4 &  5 &  5 &  6\\\\\n\t GP & F & 15 & U & LE3 & T & 1 & 1 & at\\_home  & other    & ⋯ & 4 & 3 & 2 & 2 & 3 & 3 & 10 &  7 &  8 & 10\\\\\n\t GP & F & 15 & U & GT3 & T & 4 & 2 & health   & services & ⋯ & 3 & 2 & 2 & 1 & 1 & 5 &  2 & 15 & 14 & 15\\\\\n\t GP & F & 16 & U & GT3 & T & 3 & 3 & other    & other    & ⋯ & 4 & 3 & 2 & 1 & 2 & 5 &  4 &  6 & 10 & 10\\\\\n\t GP & M & 16 & U & LE3 & T & 4 & 3 & services & other    & ⋯ & 5 & 4 & 2 & 1 & 2 & 5 & 10 & 15 & 15 & 15\\\\\n\t GP & M & 16 & U & LE3 & T & 2 & 2 & other    & other    & ⋯ & 4 & 4 & 4 & 1 & 1 & 3 &  0 & 12 & 12 & 11\\\\\n\t GP & F & 17 & U & GT3 & A & 4 & 4 & other    & teacher  & ⋯ & 4 & 1 & 4 & 1 & 1 & 1 &  6 &  6 &  5 &  6\\\\\n\t GP & M & 15 & U & LE3 & A & 3 & 2 & services & other    & ⋯ & 4 & 2 & 2 & 1 & 1 & 1 &  0 & 16 & 18 & 19\\\\\n\t GP & M & 15 & U & GT3 & T & 3 & 4 & other    & other    & ⋯ & 5 & 5 & 1 & 1 & 1 & 5 &  0 & 14 & 15 & 15\\\\\n\t GP & F & 15 & U & GT3 & T & 4 & 4 & teacher  & health   & ⋯ & 3 & 3 & 3 & 1 & 2 & 2 &  0 & 10 &  8 &  9\\\\\n\t GP & F & 15 & U & GT3 & T & 2 & 1 & services & other    & ⋯ & 5 & 2 & 2 & 1 & 1 & 4 &  4 & 10 & 12 & 12\\\\\n\t GP & M & 15 & U & LE3 & T & 4 & 4 & health   & services & ⋯ & 4 & 3 & 3 & 1 & 3 & 5 &  2 & 14 & 14 & 14\\\\\n\t GP & M & 15 & U & GT3 & T & 4 & 3 & teacher  & other    & ⋯ & 5 & 4 & 3 & 1 & 2 & 3 &  2 & 10 & 10 & 11\\\\\n\t GP & M & 15 & U & GT3 & A & 2 & 2 & other    & other    & ⋯ & 4 & 5 & 2 & 1 & 1 & 3 &  0 & 14 & 16 & 16\\\\\n\t GP & F & 16 & U & GT3 & T & 4 & 4 & health   & other    & ⋯ & 4 & 4 & 4 & 1 & 2 & 2 &  4 & 14 & 14 & 14\\\\\n\t GP & F & 16 & U & GT3 & T & 4 & 4 & services & services & ⋯ & 3 & 2 & 3 & 1 & 2 & 2 &  6 & 13 & 14 & 14\\\\\n\t GP & F & 16 & U & GT3 & T & 3 & 3 & other    & other    & ⋯ & 5 & 3 & 2 & 1 & 1 & 4 &  4 &  8 & 10 & 10\\\\\n\t GP & M & 17 & U & GT3 & T & 3 & 2 & services & services & ⋯ & 5 & 5 & 5 & 2 & 4 & 5 & 16 &  6 &  5 &  5\\\\\n\t GP & M & 16 & U & LE3 & T & 4 & 3 & health   & other    & ⋯ & 3 & 1 & 3 & 1 & 3 & 5 &  4 &  8 & 10 & 10\\\\\n\t GP & M & 15 & U & GT3 & T & 4 & 3 & teacher  & other    & ⋯ & 4 & 4 & 1 & 1 & 1 & 1 &  0 & 13 & 14 & 15\\\\\n\t GP & M & 15 & U & GT3 & T & 4 & 4 & health   & health   & ⋯ & 5 & 4 & 2 & 1 & 1 & 5 &  0 & 12 & 15 & 15\\\\\n\t GP & M & 16 & U & LE3 & T & 4 & 2 & teacher  & other    & ⋯ & 4 & 5 & 1 & 1 & 3 & 5 &  2 & 15 & 15 & 16\\\\\n\t GP & M & 16 & U & LE3 & T & 2 & 2 & other    & other    & ⋯ & 5 & 4 & 4 & 2 & 4 & 5 &  0 & 13 & 13 & 12\\\\\n\t GP & F & 15 & R & GT3 & T & 2 & 4 & services & health   & ⋯ & 4 & 3 & 2 & 1 & 1 & 5 &  2 & 10 &  9 &  8\\\\\n\t GP & F & 16 & U & GT3 & T & 2 & 2 & services & services & ⋯ & 1 & 2 & 2 & 1 & 3 & 5 & 14 &  6 &  9 &  8\\\\\n\t GP & M & 15 & U & GT3 & T & 2 & 2 & other    & other    & ⋯ & 4 & 2 & 2 & 1 & 2 & 5 &  2 & 12 & 12 & 11\\\\\n\t GP & M & 15 & U & GT3 & T & 4 & 2 & health   & services & ⋯ & 2 & 2 & 4 & 2 & 4 & 1 &  4 & 15 & 16 & 15\\\\\n\t GP & M & 16 & U & LE3 & A & 3 & 4 & services & other    & ⋯ & 5 & 3 & 3 & 1 & 1 & 5 &  4 & 11 & 11 & 11\\\\\n\t GP & M & 16 & U & GT3 & T & 4 & 4 & teacher  & teacher  & ⋯ & 4 & 4 & 5 & 5 & 5 & 5 & 16 & 10 & 12 & 11\\\\\n\t ⋮ & ⋮ & ⋮ & ⋮ & ⋮ & ⋮ & ⋮ & ⋮ & ⋮ & ⋮ & ⋱ & ⋮ & ⋮ & ⋮ & ⋮ & ⋮ & ⋮ & ⋮ & ⋮ & ⋮ & ⋮\\\\\n\t MS & M & 18 & R & GT3 & T & 1 & 3 & at\\_home  & other    & ⋯ & 3 & 3 & 4 & 2 & 4 & 3 &  4 & 10 & 10 & 10\\\\\n\t MS & M & 18 & U & LE3 & T & 4 & 4 & teacher  & services & ⋯ & 4 & 2 & 2 & 2 & 2 & 5 &  0 & 13 & 13 & 13\\\\\n\t MS & F & 17 & R & GT3 & T & 1 & 1 & other    & services & ⋯ & 5 & 2 & 1 & 1 & 2 & 1 &  0 &  7 &  6 &  0\\\\\n\t MS & F & 18 & U & GT3 & T & 2 & 3 & at\\_home  & services & ⋯ & 5 & 2 & 3 & 1 & 2 & 4 &  0 & 11 & 10 & 10\\\\\n\t MS & F & 18 & R & GT3 & T & 4 & 4 & other    & teacher  & ⋯ & 3 & 2 & 2 & 4 & 2 & 5 & 10 & 14 & 12 & 11\\\\\n\t MS & F & 19 & U & LE3 & T & 3 & 2 & services & services & ⋯ & 3 & 2 & 2 & 1 & 1 & 3 &  4 &  7 &  7 &  9\\\\\n\t MS & M & 18 & R & LE3 & T & 1 & 2 & at\\_home  & services & ⋯ & 4 & 3 & 3 & 2 & 3 & 3 &  3 & 14 & 12 & 12\\\\\n\t MS & F & 17 & U & GT3 & T & 2 & 2 & other    & at\\_home  & ⋯ & 3 & 4 & 3 & 1 & 1 & 3 &  8 & 13 & 11 & 11\\\\\n\t MS & F & 17 & R & GT3 & T & 1 & 2 & other    & other    & ⋯ & 3 & 5 & 5 & 1 & 3 & 1 & 14 &  6 &  5 &  5\\\\\n\t MS & F & 18 & R & LE3 & T & 4 & 4 & other    & other    & ⋯ & 5 & 4 & 4 & 1 & 1 & 1 &  0 & 19 & 18 & 19\\\\\n\t MS & F & 18 & R & GT3 & T & 1 & 1 & other    & other    & ⋯ & 4 & 3 & 2 & 1 & 2 & 4 &  2 &  8 &  8 & 10\\\\\n\t MS & F & 20 & U & GT3 & T & 4 & 2 & health   & other    & ⋯ & 5 & 4 & 3 & 1 & 1 & 3 &  4 & 15 & 14 & 15\\\\\n\t MS & F & 18 & R & LE3 & T & 4 & 4 & teacher  & services & ⋯ & 5 & 4 & 3 & 3 & 4 & 2 &  4 &  8 &  9 & 10\\\\\n\t MS & F & 18 & U & GT3 & T & 3 & 3 & other    & other    & ⋯ & 4 & 1 & 3 & 1 & 2 & 1 &  0 & 15 & 15 & 15\\\\\n\t MS & F & 17 & R & GT3 & T & 3 & 1 & at\\_home  & other    & ⋯ & 4 & 5 & 4 & 2 & 3 & 1 & 17 & 10 & 10 & 10\\\\\n\t MS & M & 18 & U & GT3 & T & 4 & 4 & teacher  & teacher  & ⋯ & 3 & 2 & 4 & 1 & 4 & 2 &  4 & 15 & 14 & 14\\\\\n\t MS & M & 18 & R & GT3 & T & 2 & 1 & other    & other    & ⋯ & 4 & 4 & 3 & 1 & 3 & 5 &  5 &  7 &  6 &  7\\\\\n\t MS & M & 17 & U & GT3 & T & 2 & 3 & other    & services & ⋯ & 4 & 4 & 3 & 1 & 1 & 3 &  2 & 11 & 11 & 10\\\\\n\t MS & M & 19 & R & GT3 & T & 1 & 1 & other    & services & ⋯ & 4 & 3 & 2 & 1 & 3 & 5 &  0 &  6 &  5 &  0\\\\\n\t MS & M & 18 & R & GT3 & T & 4 & 2 & other    & other    & ⋯ & 5 & 4 & 3 & 4 & 3 & 3 & 14 &  6 &  5 &  5\\\\\n\t MS & F & 18 & R & GT3 & T & 2 & 2 & at\\_home  & other    & ⋯ & 5 & 3 & 3 & 1 & 3 & 4 &  2 & 10 &  9 & 10\\\\\n\t MS & F & 18 & R & GT3 & T & 4 & 4 & teacher  & at\\_home  & ⋯ & 4 & 4 & 3 & 2 & 2 & 5 &  7 &  6 &  5 &  6\\\\\n\t MS & F & 19 & R & GT3 & T & 2 & 3 & services & other    & ⋯ & 5 & 4 & 2 & 1 & 2 & 5 &  0 &  7 &  5 &  0\\\\\n\t MS & F & 18 & U & LE3 & T & 3 & 1 & teacher  & services & ⋯ & 4 & 3 & 4 & 1 & 1 & 1 &  0 &  7 &  9 &  8\\\\\n\t MS & F & 18 & U & GT3 & T & 1 & 1 & other    & other    & ⋯ & 1 & 1 & 1 & 1 & 1 & 5 &  0 &  6 &  5 &  0\\\\\n\t MS & M & 20 & U & LE3 & A & 2 & 2 & services & services & ⋯ & 5 & 5 & 4 & 4 & 5 & 4 & 11 &  9 &  9 &  9\\\\\n\t MS & M & 17 & U & LE3 & T & 3 & 1 & services & services & ⋯ & 2 & 4 & 5 & 3 & 4 & 2 &  3 & 14 & 16 & 16\\\\\n\t MS & M & 21 & R & GT3 & T & 1 & 1 & other    & other    & ⋯ & 5 & 5 & 3 & 3 & 3 & 3 &  3 & 10 &  8 &  7\\\\\n\t MS & M & 18 & R & LE3 & T & 3 & 2 & services & other    & ⋯ & 4 & 4 & 1 & 3 & 4 & 5 &  0 & 11 & 12 & 10\\\\\n\t MS & M & 19 & U & LE3 & T & 1 & 1 & other    & at\\_home  & ⋯ & 3 & 2 & 3 & 3 & 3 & 5 &  5 &  8 &  9 &  9\\\\\n\\end{tabular}\n",
            "text/plain": [
              "    school sex age address famsize Pstatus Medu Fedu Mjob     Fjob     ⋯ famrel\n",
              "1   GP     F   18  U       GT3     A       4    4    at_home  teacher  ⋯ 4     \n",
              "2   GP     F   17  U       GT3     T       1    1    at_home  other    ⋯ 5     \n",
              "3   GP     F   15  U       LE3     T       1    1    at_home  other    ⋯ 4     \n",
              "4   GP     F   15  U       GT3     T       4    2    health   services ⋯ 3     \n",
              "5   GP     F   16  U       GT3     T       3    3    other    other    ⋯ 4     \n",
              "6   GP     M   16  U       LE3     T       4    3    services other    ⋯ 5     \n",
              "7   GP     M   16  U       LE3     T       2    2    other    other    ⋯ 4     \n",
              "8   GP     F   17  U       GT3     A       4    4    other    teacher  ⋯ 4     \n",
              "9   GP     M   15  U       LE3     A       3    2    services other    ⋯ 4     \n",
              "10  GP     M   15  U       GT3     T       3    4    other    other    ⋯ 5     \n",
              "11  GP     F   15  U       GT3     T       4    4    teacher  health   ⋯ 3     \n",
              "12  GP     F   15  U       GT3     T       2    1    services other    ⋯ 5     \n",
              "13  GP     M   15  U       LE3     T       4    4    health   services ⋯ 4     \n",
              "14  GP     M   15  U       GT3     T       4    3    teacher  other    ⋯ 5     \n",
              "15  GP     M   15  U       GT3     A       2    2    other    other    ⋯ 4     \n",
              "16  GP     F   16  U       GT3     T       4    4    health   other    ⋯ 4     \n",
              "17  GP     F   16  U       GT3     T       4    4    services services ⋯ 3     \n",
              "18  GP     F   16  U       GT3     T       3    3    other    other    ⋯ 5     \n",
              "19  GP     M   17  U       GT3     T       3    2    services services ⋯ 5     \n",
              "20  GP     M   16  U       LE3     T       4    3    health   other    ⋯ 3     \n",
              "21  GP     M   15  U       GT3     T       4    3    teacher  other    ⋯ 4     \n",
              "22  GP     M   15  U       GT3     T       4    4    health   health   ⋯ 5     \n",
              "23  GP     M   16  U       LE3     T       4    2    teacher  other    ⋯ 4     \n",
              "24  GP     M   16  U       LE3     T       2    2    other    other    ⋯ 5     \n",
              "25  GP     F   15  R       GT3     T       2    4    services health   ⋯ 4     \n",
              "26  GP     F   16  U       GT3     T       2    2    services services ⋯ 1     \n",
              "27  GP     M   15  U       GT3     T       2    2    other    other    ⋯ 4     \n",
              "28  GP     M   15  U       GT3     T       4    2    health   services ⋯ 2     \n",
              "29  GP     M   16  U       LE3     A       3    4    services other    ⋯ 5     \n",
              "30  GP     M   16  U       GT3     T       4    4    teacher  teacher  ⋯ 4     \n",
              "⋮   ⋮      ⋮   ⋮   ⋮       ⋮       ⋮       ⋮    ⋮    ⋮        ⋮        ⋱ ⋮     \n",
              "366 MS     M   18  R       GT3     T       1    3    at_home  other    ⋯ 3     \n",
              "367 MS     M   18  U       LE3     T       4    4    teacher  services ⋯ 4     \n",
              "368 MS     F   17  R       GT3     T       1    1    other    services ⋯ 5     \n",
              "369 MS     F   18  U       GT3     T       2    3    at_home  services ⋯ 5     \n",
              "370 MS     F   18  R       GT3     T       4    4    other    teacher  ⋯ 3     \n",
              "371 MS     F   19  U       LE3     T       3    2    services services ⋯ 3     \n",
              "372 MS     M   18  R       LE3     T       1    2    at_home  services ⋯ 4     \n",
              "373 MS     F   17  U       GT3     T       2    2    other    at_home  ⋯ 3     \n",
              "374 MS     F   17  R       GT3     T       1    2    other    other    ⋯ 3     \n",
              "375 MS     F   18  R       LE3     T       4    4    other    other    ⋯ 5     \n",
              "376 MS     F   18  R       GT3     T       1    1    other    other    ⋯ 4     \n",
              "377 MS     F   20  U       GT3     T       4    2    health   other    ⋯ 5     \n",
              "378 MS     F   18  R       LE3     T       4    4    teacher  services ⋯ 5     \n",
              "379 MS     F   18  U       GT3     T       3    3    other    other    ⋯ 4     \n",
              "380 MS     F   17  R       GT3     T       3    1    at_home  other    ⋯ 4     \n",
              "381 MS     M   18  U       GT3     T       4    4    teacher  teacher  ⋯ 3     \n",
              "382 MS     M   18  R       GT3     T       2    1    other    other    ⋯ 4     \n",
              "383 MS     M   17  U       GT3     T       2    3    other    services ⋯ 4     \n",
              "384 MS     M   19  R       GT3     T       1    1    other    services ⋯ 4     \n",
              "385 MS     M   18  R       GT3     T       4    2    other    other    ⋯ 5     \n",
              "386 MS     F   18  R       GT3     T       2    2    at_home  other    ⋯ 5     \n",
              "387 MS     F   18  R       GT3     T       4    4    teacher  at_home  ⋯ 4     \n",
              "388 MS     F   19  R       GT3     T       2    3    services other    ⋯ 5     \n",
              "389 MS     F   18  U       LE3     T       3    1    teacher  services ⋯ 4     \n",
              "390 MS     F   18  U       GT3     T       1    1    other    other    ⋯ 1     \n",
              "391 MS     M   20  U       LE3     A       2    2    services services ⋯ 5     \n",
              "392 MS     M   17  U       LE3     T       3    1    services services ⋯ 2     \n",
              "393 MS     M   21  R       GT3     T       1    1    other    other    ⋯ 5     \n",
              "394 MS     M   18  R       LE3     T       3    2    services other    ⋯ 4     \n",
              "395 MS     M   19  U       LE3     T       1    1    other    at_home  ⋯ 3     \n",
              "    freetime goout Dalc Walc health absences G1 G2 G3\n",
              "1   3        4     1    1    3       6        5  6  6\n",
              "2   3        3     1    1    3       4        5  5  6\n",
              "3   3        2     2    3    3      10        7  8 10\n",
              "4   2        2     1    1    5       2       15 14 15\n",
              "5   3        2     1    2    5       4        6 10 10\n",
              "6   4        2     1    2    5      10       15 15 15\n",
              "7   4        4     1    1    3       0       12 12 11\n",
              "8   1        4     1    1    1       6        6  5  6\n",
              "9   2        2     1    1    1       0       16 18 19\n",
              "10  5        1     1    1    5       0       14 15 15\n",
              "11  3        3     1    2    2       0       10  8  9\n",
              "12  2        2     1    1    4       4       10 12 12\n",
              "13  3        3     1    3    5       2       14 14 14\n",
              "14  4        3     1    2    3       2       10 10 11\n",
              "15  5        2     1    1    3       0       14 16 16\n",
              "16  4        4     1    2    2       4       14 14 14\n",
              "17  2        3     1    2    2       6       13 14 14\n",
              "18  3        2     1    1    4       4        8 10 10\n",
              "19  5        5     2    4    5      16        6  5  5\n",
              "20  1        3     1    3    5       4        8 10 10\n",
              "21  4        1     1    1    1       0       13 14 15\n",
              "22  4        2     1    1    5       0       12 15 15\n",
              "23  5        1     1    3    5       2       15 15 16\n",
              "24  4        4     2    4    5       0       13 13 12\n",
              "25  3        2     1    1    5       2       10  9  8\n",
              "26  2        2     1    3    5      14        6  9  8\n",
              "27  2        2     1    2    5       2       12 12 11\n",
              "28  2        4     2    4    1       4       15 16 15\n",
              "29  3        3     1    1    5       4       11 11 11\n",
              "30  4        5     5    5    5      16       10 12 11\n",
              "⋮   ⋮        ⋮     ⋮    ⋮    ⋮      ⋮        ⋮  ⋮  ⋮ \n",
              "366 3        4     2    4    3       4       10 10 10\n",
              "367 2        2     2    2    5       0       13 13 13\n",
              "368 2        1     1    2    1       0        7  6  0\n",
              "369 2        3     1    2    4       0       11 10 10\n",
              "370 2        2     4    2    5      10       14 12 11\n",
              "371 2        2     1    1    3       4        7  7  9\n",
              "372 3        3     2    3    3       3       14 12 12\n",
              "373 4        3     1    1    3       8       13 11 11\n",
              "374 5        5     1    3    1      14        6  5  5\n",
              "375 4        4     1    1    1       0       19 18 19\n",
              "376 3        2     1    2    4       2        8  8 10\n",
              "377 4        3     1    1    3       4       15 14 15\n",
              "378 4        3     3    4    2       4        8  9 10\n",
              "379 1        3     1    2    1       0       15 15 15\n",
              "380 5        4     2    3    1      17       10 10 10\n",
              "381 2        4     1    4    2       4       15 14 14\n",
              "382 4        3     1    3    5       5        7  6  7\n",
              "383 4        3     1    1    3       2       11 11 10\n",
              "384 3        2     1    3    5       0        6  5  0\n",
              "385 4        3     4    3    3      14        6  5  5\n",
              "386 3        3     1    3    4       2       10  9 10\n",
              "387 4        3     2    2    5       7        6  5  6\n",
              "388 4        2     1    2    5       0        7  5  0\n",
              "389 3        4     1    1    1       0        7  9  8\n",
              "390 1        1     1    1    5       0        6  5  0\n",
              "391 5        4     4    5    4      11        9  9  9\n",
              "392 4        5     3    4    2       3       14 16 16\n",
              "393 5        3     3    3    3       3       10  8  7\n",
              "394 4        1     3    4    5       0       11 12 10\n",
              "395 2        3     3    3    5       5        8  9  9"
            ]
          },
          "metadata": {}
        }
      ]
    },
    {
      "cell_type": "code",
      "source": [
        "#explorando el dataframe resultante, observamos que hay 395 registros de estudiantes\n",
        "str(datos_mat)"
      ],
      "metadata": {
        "colab": {
          "base_uri": "https://localhost:8080/"
        },
        "id": "5YF50xeScQqw",
        "outputId": "ecdc2476-789f-46b7-92d0-ea808a494144"
      },
      "execution_count": 18,
      "outputs": [
        {
          "output_type": "stream",
          "name": "stdout",
          "text": [
            "'data.frame':\t395 obs. of  1 variable:\n",
            " $ school.sex.age.address.famsize.Pstatus.Medu.Fedu.Mjob.Fjob.reason.guardian.traveltime.studytime.failures.schoolsup.famsup.paid.activities.nursery.higher.internet.romantic.famrel.freetime.goout.Dalc.Walc.health.absences.G1.G2.G3: chr  \"GP,F,18,U,GT3,A,4,4,at_home,teacher,course,mother,2,2,0,yes,no,no,no,yes,yes,no,no,4,3,4,1,1,3,6,5,6,6\" \"GP,F,17,U,GT3,T,1,1,at_home,other,course,father,1,2,0,no,yes,no,no,no,yes,yes,no,5,3,3,1,1,3,4,5,5,6\" \"GP,F,15,U,LE3,T,1,1,at_home,other,other,mother,1,2,3,yes,no,yes,no,yes,yes,yes,no,4,3,2,2,3,3,10,7,8,10\" \"GP,F,15,U,GT3,T,4,2,health,services,home,mother,1,3,0,no,yes,yes,yes,yes,yes,yes,yes,3,2,2,1,1,5,2,15,14,15\" ...\n"
          ]
        }
      ]
    },
    {
      "cell_type": "code",
      "source": [
        "#buscando valores nulos dentro del dataframe\n",
        "any(is.na(datos_mat))\n",
        "mean(is.na(datos_mat))"
      ],
      "metadata": {
        "colab": {
          "base_uri": "https://localhost:8080/",
          "height": 52
        },
        "id": "GD1p3RvFcUNk",
        "outputId": "76c08a66-db99-4d5d-d278-9999191f2f89"
      },
      "execution_count": 10,
      "outputs": [
        {
          "output_type": "display_data",
          "data": {
            "text/html": [
              "FALSE"
            ],
            "text/markdown": "FALSE",
            "text/latex": "FALSE",
            "text/plain": [
              "[1] FALSE"
            ]
          },
          "metadata": {}
        },
        {
          "output_type": "display_data",
          "data": {
            "text/html": [
              "0"
            ],
            "text/markdown": "0",
            "text/latex": "0",
            "text/plain": [
              "[1] 0"
            ]
          },
          "metadata": {}
        }
      ]
    },
    {
      "cell_type": "code",
      "source": [
        "## Obteniendo cuantos estudiantes  son hombres o mujeres\n",
        "datos_mat %>% count(sex) %>% group_by(sex)"
      ],
      "metadata": {
        "colab": {
          "base_uri": "https://localhost:8080/",
          "height": 178
        },
        "id": "Mb6JoYvjcYzB",
        "outputId": "4804c225-5fa1-4020-dd2c-25c201809e25"
      },
      "execution_count": 24,
      "outputs": [
        {
          "output_type": "display_data",
          "data": {
            "text/html": [
              "<table class=\"dataframe\">\n",
              "<caption>A grouped_df: 2 × 2</caption>\n",
              "<thead>\n",
              "\t<tr><th scope=col>sex</th><th scope=col>n</th></tr>\n",
              "\t<tr><th scope=col>&lt;chr&gt;</th><th scope=col>&lt;int&gt;</th></tr>\n",
              "</thead>\n",
              "<tbody>\n",
              "\t<tr><td>F</td><td>208</td></tr>\n",
              "\t<tr><td>M</td><td>187</td></tr>\n",
              "</tbody>\n",
              "</table>\n"
            ],
            "text/markdown": "\nA grouped_df: 2 × 2\n\n| sex &lt;chr&gt; | n &lt;int&gt; |\n|---|---|\n| F | 208 |\n| M | 187 |\n\n",
            "text/latex": "A grouped\\_df: 2 × 2\n\\begin{tabular}{ll}\n sex & n\\\\\n <chr> & <int>\\\\\n\\hline\n\t F & 208\\\\\n\t M & 187\\\\\n\\end{tabular}\n",
            "text/plain": [
              "  sex n  \n",
              "1 F   208\n",
              "2 M   187"
            ]
          },
          "metadata": {}
        }
      ]
    },
    {
      "cell_type": "code",
      "source": [
        "## Obteniendo los promedios de calificaciones por género, incluyendo el promedio final\n",
        "#summarise(estudiantes_mat,total=mean(G1)) #EJEMPLO\n",
        "\n",
        "datos_mat %>%\n",
        "            group_by(sex) %>%\n",
        "            summarise(promedioG1=mean(G1), promedioG2=mean(G2),PromedioCurso=mean(G3) )"
      ],
      "metadata": {
        "colab": {
          "base_uri": "https://localhost:8080/",
          "height": 161
        },
        "id": "bNbdab_4e35c",
        "outputId": "5f9886ee-b475-4288-8f19-80427f65ba7e"
      },
      "execution_count": 25,
      "outputs": [
        {
          "output_type": "display_data",
          "data": {
            "text/html": [
              "<table class=\"dataframe\">\n",
              "<caption>A tibble: 2 × 4</caption>\n",
              "<thead>\n",
              "\t<tr><th scope=col>sex</th><th scope=col>promedioG1</th><th scope=col>promedioG2</th><th scope=col>PromedioCurso</th></tr>\n",
              "\t<tr><th scope=col>&lt;chr&gt;</th><th scope=col>&lt;dbl&gt;</th><th scope=col>&lt;dbl&gt;</th><th scope=col>&lt;dbl&gt;</th></tr>\n",
              "</thead>\n",
              "<tbody>\n",
              "\t<tr><td>F</td><td>10.62019</td><td>10.38942</td><td> 9.966346</td></tr>\n",
              "\t<tr><td>M</td><td>11.22995</td><td>11.07487</td><td>10.914439</td></tr>\n",
              "</tbody>\n",
              "</table>\n"
            ],
            "text/markdown": "\nA tibble: 2 × 4\n\n| sex &lt;chr&gt; | promedioG1 &lt;dbl&gt; | promedioG2 &lt;dbl&gt; | PromedioCurso &lt;dbl&gt; |\n|---|---|---|---|\n| F | 10.62019 | 10.38942 |  9.966346 |\n| M | 11.22995 | 11.07487 | 10.914439 |\n\n",
            "text/latex": "A tibble: 2 × 4\n\\begin{tabular}{llll}\n sex & promedioG1 & promedioG2 & PromedioCurso\\\\\n <chr> & <dbl> & <dbl> & <dbl>\\\\\n\\hline\n\t F & 10.62019 & 10.38942 &  9.966346\\\\\n\t M & 11.22995 & 11.07487 & 10.914439\\\\\n\\end{tabular}\n",
            "text/plain": [
              "  sex promedioG1 promedioG2 PromedioCurso\n",
              "1 F   10.62019   10.38942    9.966346    \n",
              "2 M   11.22995   11.07487   10.914439    "
            ]
          },
          "metadata": {}
        }
      ]
    },
    {
      "cell_type": "code",
      "source": [
        "# Calcular la media y la desviación estándar de las calificaciones finales\n",
        "media <- mean(datos_mat$G3)\n",
        "desviacion <- sd(datos_mat$G3)\n",
        "mediana<-median(datos_mat$G3)\n",
        "\n",
        "print(paste(\"Promedio\",media))\n",
        "print(paste(\"desviacion\",desviacion))\n",
        "print(paste(\"mediana\", mediana))"
      ],
      "metadata": {
        "colab": {
          "base_uri": "https://localhost:8080/"
        },
        "id": "saKHwao6fsah",
        "outputId": "2fc34846-c6d8-485a-ae16-a39df118665f"
      },
      "execution_count": 35,
      "outputs": [
        {
          "output_type": "stream",
          "name": "stdout",
          "text": [
            "[1] \"Promedio 10.4151898734177\"\n",
            "[1] \"desviacion 4.58144261099784\"\n",
            "[1] \"mediana 11\"\n"
          ]
        }
      ]
    },
    {
      "cell_type": "code",
      "source": [
        "####           Obtención de estadisticos          ##\n",
        "\n",
        "#realizamos histograma de todas las calificaciones de los estudiantes, para observar la distribucion de los datos\n",
        "\n",
        "hist(datos_mat$G3,\n",
        "     main = \"Distribución de Calificaciones Finales Matemáticas\",\n",
        "     xlab = \"Calificación Final\",\n",
        "     ylab = \"Frecuencia\",\n",
        "     col = \"blue\",\n",
        "     border = \"white\")"
      ],
      "metadata": {
        "colab": {
          "base_uri": "https://localhost:8080/",
          "height": 437
        },
        "id": "HBhixFUJfAmp",
        "outputId": "50de2acc-ec1d-4d76-d791-d65277886cfb"
      },
      "execution_count": 29,
      "outputs": [
        {
          "output_type": "display_data",
          "data": {
            "text/plain": [
              "Plot with title “Distribución de Calificaciones Finales”"
            ],
            "image/png": "[encoded data removed]"
          },
          "metadata": {
            "image/png": {
              "width": 420,
              "height": 420
            }
          }
        }
      ]
    },
    {
      "cell_type": "code",
      "source": [
        "#### # Generar valores de una distribución normal usando la media y la desviación estándar observadas ####\n",
        "\n",
        "x <- seq(0, 20, length.out = 100)\n",
        "y <- dnorm(x, mean = media, sd = desviacion)\n",
        "\n",
        "# Graficar la distribución normal\n",
        "plot(x, y, type = \"l\", lwd = 2, col = \"blue\",\n",
        "     main = \"Distribución Normal de Calificaciones Finales\",\n",
        "     xlab = \"Calificación Final\", ylab = \"Densidad de Probabilidad\")"
      ],
      "metadata": {
        "colab": {
          "base_uri": "https://localhost:8080/",
          "height": 437
        },
        "id": "jWf14Im3iHZI",
        "outputId": "e282d6e1-5fc9-46a9-d20c-2bce1091e31c"
      },
      "execution_count": 43,
      "outputs": [
        {
          "output_type": "display_data",
          "data": {
            "text/plain": [
              "Plot with title “Distribución Normal de Calificaciones Finales”"
            ],
            "image/png": "[encoded data removed]"
          },
          "metadata": {
            "image/png": {
              "width": 420,
              "height": 420
            }
          }
        }
      ]
    },
    {
      "cell_type": "code",
      "source": [
        "########                     ANOVA            ########################################################\n",
        "# Se realiza el análisis de varianza (ANOVA)\n",
        "# utilizando la función aov(), con la calificación final (G3) como variable dependiente y el\n",
        "# género (sex) como variable independiente.\n",
        "\n",
        "modelo_anova <- aov(G3 ~ sex, data = datos_mat)\n",
        "\n",
        "# Se otienen los resultados de ANOVA mediante la función summary\n",
        "summary(modelo_anova)"
      ],
      "metadata": {
        "colab": {
          "base_uri": "https://localhost:8080/",
          "height": 104
        },
        "id": "TSdpas91fowZ",
        "outputId": "2b7c86fd-d861-471b-f2a6-448761d4da0d"
      },
      "execution_count": 36,
      "outputs": [
        {
          "output_type": "display_data",
          "data": {
            "text/plain": [
              "             Df Sum Sq Mean Sq F value Pr(>F)  \n",
              "sex           1     89   88.51   4.252 0.0399 *\n",
              "Residuals   393   8181   20.82                 \n",
              "---\n",
              "Signif. codes:  0 ‘***’ 0.001 ‘**’ 0.01 ‘*’ 0.05 ‘.’ 0.1 ‘ ’ 1"
            ]
          },
          "metadata": {}
        }
      ]
    },
    {
      "cell_type": "code",
      "source": [
        "#### Prueba de Hipótesis ###\n",
        "\n",
        "# Realizar la prueba t de student para comparar las calificaciones finales entre hombres y mujeres.\n",
        "\n",
        "#Ho:\n",
        "#Ha:\n",
        "\n",
        "prueba_t <- t.test(G3 ~ sex, data = datos_mat)\n",
        "\n",
        "# Mostrar los resultados de la prueba t\n",
        "prueba_t"
      ],
      "metadata": {
        "colab": {
          "base_uri": "https://localhost:8080/",
          "height": 208
        },
        "id": "VkjX75YDfHSL",
        "outputId": "f889d6ab-aad2-4738-8955-df2927955169"
      },
      "execution_count": 37,
      "outputs": [
        {
          "output_type": "display_data",
          "data": {
            "text/plain": [
              "\n",
              "\tWelch Two Sample t-test\n",
              "\n",
              "data:  G3 by sex\n",
              "t = -2.0651, df = 390.57, p-value = 0.03958\n",
              "alternative hypothesis: true difference in means between group F and group M is not equal to 0\n",
              "95 percent confidence interval:\n",
              " -1.85073226 -0.04545244\n",
              "sample estimates:\n",
              "mean in group F mean in group M \n",
              "       9.966346       10.914439 \n"
            ]
          },
          "metadata": {}
        }
      ]
    },
    {
      "cell_type": "code",
      "source": [
        "### Modelo de arbol de desición para tratar de predecir la calificacion final G3 en el conjunto de datos\n",
        "### y en función de las otras variables disponibles en el conjunto de datos.\n",
        "\n",
        "# Ajustar el árbol de decisión\n",
        "arbol <- rpart(G3 ~ ., data = datos_mat)\n",
        "\n",
        "\n",
        "# Visualizar el árbol de decisión\n",
        "plot(arbol)\n",
        "text(arbol)\n"
      ],
      "metadata": {
        "colab": {
          "base_uri": "https://localhost:8080/",
          "height": 437
        },
        "id": "0EFFtRllhb55",
        "outputId": "b3c4ac19-a05d-44cf-ed70-02105e6d5de8"
      },
      "execution_count": 38,
      "outputs": [
        {
          "output_type": "display_data",
          "data": {
            "text/plain": [
              "plot without title"
            ],
            "image/png": "[encoded data removed]"
          },
          "metadata": {
            "image/png": {
              "width": 420,
              "height": 420
            }
          }
        }
      ]
    },
    {
      "cell_type": "code",
      "source": [
        "# Predecir las calificaciones finales utilizando el árbol de decisión\n",
        "predicciones <- predict(arbol, datos_mat)\n",
        "\n",
        "# Convertir las predicciones a clases\n",
        "predicciones_clases <- ifelse(predicciones <= 10, \"Suspenso\", \"Aprobado\")\n",
        "\n",
        "# Crear la matriz de confusión\n",
        "confusion_matrix <- table(datos_mat$G3, predicciones_clases)\n",
        "\n",
        "\n",
        "# Mostrar la matriz de confusión\n",
        "confusion_matrix\n"
      ],
      "metadata": {
        "colab": {
          "base_uri": "https://localhost:8080/",
          "height": 364
        },
        "id": "e1gFnpuWhlrm",
        "outputId": "44cfc676-fd8a-4894-e490-88290ef32a8b"
      },
      "execution_count": 41,
      "outputs": [
        {
          "output_type": "display_data",
          "data": {
            "text/plain": [
              "    predicciones_clases\n",
              "     Aprobado Suspenso\n",
              "  0         0       38\n",
              "  4         0        1\n",
              "  5         0        7\n",
              "  6         0       15\n",
              "  7         0        9\n",
              "  8         0       32\n",
              "  9         1       27\n",
              "  10       13       43\n",
              "  11       35       12\n",
              "  12       30        1\n",
              "  13       31        0\n",
              "  14       27        0\n",
              "  15       33        0\n",
              "  16       16        0\n",
              "  17        6        0\n",
              "  18       12        0\n",
              "  19        5        0\n",
              "  20        1        0"
            ]
          },
          "metadata": {}
        }
      ]
    },
    {
      "cell_type": "code",
      "source": [
        "# Calcular las métricas de evaluación del modelo\n",
        "verdaderos_positivos <- sum(datos_mat$G3 > 10 & predicciones_clases == \"Aprobado\")\n",
        "verdaderos_negativos <- sum(datos_mat$G3 <= 10 & predicciones_clases == \"Suspenso\")\n",
        "falsos_positivos <- sum(datos_mat$G3 <= 10 & predicciones_clases == \"Aprobado\")\n",
        "falsos_negativos <- sum(datos_mat$G3 > 10 & predicciones_clases == \"Suspenso\")\n",
        "\n",
        "precision <- (verdaderos_positivos + verdaderos_negativos) / sum(confusion_matrix)\n",
        "sensibilidad <- verdaderos_positivos / (verdaderos_positivos + falsos_negativos)\n",
        "especificidad <- verdaderos_negativos / (verdaderos_negativos + falsos_positivos)\n",
        "\n",
        "# Imprimir las métricas de evaluación del modelo\n",
        "cat(\"Precisión:\", precision, \"\\n\")\n",
        "cat(\"Sensibilidad:\", sensibilidad, \"\\n\")\n",
        "cat(\"Especificidad:\", especificidad, \"\\n\")"
      ],
      "metadata": {
        "colab": {
          "base_uri": "https://localhost:8080/"
        },
        "id": "JHfx8xvbh034",
        "outputId": "411812f2-3617-454f-8dc3-bc0828cb8620"
      },
      "execution_count": 42,
      "outputs": [
        {
          "output_type": "stream",
          "name": "stdout",
          "text": [
            "Precisión: 0.9316456 \n",
            "Sensibilidad: 0.937799 \n",
            "Especificidad: 0.9247312 \n"
          ]
        }
      ]
    },
    {
      "cell_type": "code",
      "source": [],
      "metadata": {
        "id": "vlbrjjw-iGEW"
      },
      "execution_count": null,
      "outputs": []
    }
  ]
}